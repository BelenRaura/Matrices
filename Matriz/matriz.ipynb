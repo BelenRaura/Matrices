{
 "cells": [
  {
   "cell_type": "code",
   "execution_count": null,
   "metadata": {},
   "outputs": [
    {
     "ename": "NameError",
     "evalue": "name 'gauss_jacobi' is not defined",
     "output_type": "error",
     "traceback": [
      "\u001b[1;31m---------------------------------------------------------------------------\u001b[0m",
      "\u001b[1;31mNameError\u001b[0m                                 Traceback (most recent call last)",
      "Cell \u001b[1;32mIn[4], line 22\u001b[0m\n\u001b[0;32m     19\u001b[0m max_iter \u001b[38;5;241m=\u001b[39m \u001b[38;5;241m100\u001b[39m\n\u001b[0;32m     21\u001b[0m \u001b[38;5;66;03m# Resolver usando el método de Jacobi\u001b[39;00m\n\u001b[1;32m---> 22\u001b[0m x_jacobi, trayectoria_jacobi \u001b[38;5;241m=\u001b[39m \u001b[43mgauss_jacobi\u001b[49m(A\u001b[38;5;241m=\u001b[39mA, b\u001b[38;5;241m=\u001b[39mb, x0\u001b[38;5;241m=\u001b[39mx0, tol\u001b[38;5;241m=\u001b[39mtol, max_iter\u001b[38;5;241m=\u001b[39mmax_iter)\n\u001b[0;32m     23\u001b[0m \u001b[38;5;28mprint\u001b[39m(\u001b[38;5;124m\"\u001b[39m\u001b[38;5;124mSolución con el método de Jacobi:\u001b[39m\u001b[38;5;124m\"\u001b[39m)\n\u001b[0;32m     24\u001b[0m \u001b[38;5;28mprint\u001b[39m(x_jacobi\u001b[38;5;241m.\u001b[39mT)\n",
      "\u001b[1;31mNameError\u001b[0m: name 'gauss_jacobi' is not defined"
     ]
    }
   ],
   "source": [
    "import numpy as np\n",
    "\n",
    "# Matriz de coeficientes\n",
    "A = np.array([[2, 10],\n",
    "              [3, 2]])\n",
    "\n",
    "# Vector de resultados\n",
    "B = np.array([16, 11])\n",
    "\n",
    "# Resolver el sistema de ecuaciones\n",
    "solution = np.linalg.solve(A, B)\n",
    "\n",
    "# Imprimir la solución\n",
    "print(\"Solución:\")\n",
    "print(f\"x1 = {solution[0]}\")\n",
    "print(f\"x2 = {solution[1]}\")\n"
   ]
  }
 ],
 "metadata": {
  "kernelspec": {
   "display_name": "Python 3",
   "language": "python",
   "name": "python3"
  },
  "language_info": {
   "codemirror_mode": {
    "name": "ipython",
    "version": 3
   },
   "file_extension": ".py",
   "mimetype": "text/x-python",
   "name": "python",
   "nbconvert_exporter": "python",
   "pygments_lexer": "ipython3",
   "version": "3.11.3"
  }
 },
 "nbformat": 4,
 "nbformat_minor": 2
}
